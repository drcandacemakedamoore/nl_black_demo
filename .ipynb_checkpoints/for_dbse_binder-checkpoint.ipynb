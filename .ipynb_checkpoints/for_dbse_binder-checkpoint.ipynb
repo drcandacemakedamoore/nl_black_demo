{
 "cells": [
  {
   "cell_type": "markdown",
   "id": "62b14fd9-8d42-496c-ab1b-3dc7033242ed",
   "metadata": {},
   "source": [
    "# Tabular data basics in Python"
   ]
  },
  {
   "cell_type": "markdown",
   "id": "a2188c52-2c76-4ea0-b5fb-8dab55d2e28e",
   "metadata": {},
   "source": [
    "This is a quick notebook to be turned into a binder for the DBSE conference. \n",
    "It shows some basics in tabular data analysis with pandas and other common libraries.\n",
    "\n",
    "Please copy-left copy to save time."
   ]
  },
  {
   "cell_type": "markdown",
   "id": "6dd0f049-1f29-469e-b371-a0bb4d40d66b",
   "metadata": {},
   "source": [
    "## Import libraries"
   ]
  },
  {
   "cell_type": "code",
   "execution_count": null,
   "id": "b0f07940-c6f9-42cc-8edb-2f33a242c528",
   "metadata": {
    "tags": []
   },
   "outputs": [],
   "source": [
    "import pandas as pd \n",
    "import numpy as np\n",
    "import matplotlib.pyplot as plt\n",
    "from pandas.api.types import is_numeric_dtype\n"
   ]
  },
  {
   "cell_type": "markdown",
   "id": "9bf1cb44-256c-4573-a5ef-be8992df446f",
   "metadata": {},
   "source": [
    "## Import our datasets"
   ]
  },
  {
   "cell_type": "markdown",
   "id": "c029bc2f-0583-49e6-ae6d-61e9f3d682b0",
   "metadata": {},
   "source": [
    "Directly below we import a dataset we are using in GEBAI training. It simulates medical school applicants."
   ]
  },
  {
   "cell_type": "code",
   "execution_count": null,
   "id": "438431a2-9802-48fa-bb58-920fa39ce6c6",
   "metadata": {
    "tags": []
   },
   "outputs": [],
   "source": [
    "candidate_data = pd.read_csv('open_work/datasets/sociodemographic_data.csv') \n",
    "candidate_data"
   ]
  },
  {
   "cell_type": "markdown",
   "id": "29c87f69-6c77-4b9b-8835-cb368abcab59",
   "metadata": {},
   "source": [
    "Directly below we import a model dataset we are using in the CVASL brain age project. It simulates our real datasets on people's derived brain values."
   ]
  },
  {
   "cell_type": "code",
   "execution_count": null,
   "id": "5fdcdb74-92cd-415f-95b9-d52fdabd5e56",
   "metadata": {
    "tags": []
   },
   "outputs": [],
   "source": [
    "brain_data = pd.read_csv('open_work/datasets/brain_data.csv') \n",
    "brain_data\n",
    " "
   ]
  },
  {
   "cell_type": "markdown",
   "id": "3a81da3a-7f1a-4e80-8e64-94045ac2602b",
   "metadata": {},
   "source": [
    "# let's observe some things on one controversial demographic detail really quickly... \n",
    "this kind of check matters when datasets are too large to scan by hand"
   ]
  },
  {
   "cell_type": "code",
   "execution_count": null,
   "id": "ea62ae5f-6a10-43ed-84b9-e09ac566b0aa",
   "metadata": {
    "tags": []
   },
   "outputs": [],
   "source": [
    "candidate_data[['Entrance_exam', 'Sex']].groupby(by=\"Sex\").count()"
   ]
  },
  {
   "cell_type": "code",
   "execution_count": null,
   "id": "0557fbba-1f33-416f-8cd3-04e4626f0b86",
   "metadata": {
    "tags": []
   },
   "outputs": [],
   "source": [
    "brain_data[['site', 'sex']].groupby(by=\"sex\").count()"
   ]
  },
  {
   "cell_type": "markdown",
   "id": "00e52d23-689f-406e-816b-6a1d3a5c7a96",
   "metadata": {
    "tags": []
   },
   "source": [
    "## Now, here is an important trick, graph out stuff and see if it makes sense in reality..."
   ]
  },
  {
   "cell_type": "code",
   "execution_count": null,
   "id": "59477400-5c68-4801-98d9-31abe7990aa7",
   "metadata": {
    "tags": []
   },
   "outputs": [],
   "source": [
    "# let's split the brain data by sex to see my point. \n",
    "\n",
    "brain_women = brain_data[brain_data['sex']== 'F' ]\n",
    "\n",
    "# we could have split on sex and race if we had it:\n",
    "\n",
    "# df = df[(df['sex'] == 'F') & (df['race'] == 'black')]\n",
    "\n",
    "brain_men = brain_data[brain_data['sex']== 'M' ]"
   ]
  },
  {
   "cell_type": "code",
   "execution_count": null,
   "id": "2abd3e1e-cd30-4352-a9ae-750cecd4dfa6",
   "metadata": {
    "tags": []
   },
   "outputs": [],
   "source": [
    "def relate_columns_graphs_two_dfs(\n",
    "        dataframe1,\n",
    "        dataframe2,\n",
    "        special_column_name,\n",
    "        other_column_name,\n",
    "        color1='blue',\n",
    "        color2='pink',\n",
    "):\n",
    "\n",
    "    \"\"\"\n",
    "    This function is meant to be a helper function\n",
    "    for one that makes a scatter plot of all columns\n",
    "    that two dataframes have in common\n",
    "\n",
    "    :param dataframe1: dataframe variable\n",
    "    :type dataframe1: pandas.dataFrame\n",
    "    :param dataframe2: dataframe variable\n",
    "    :type dataframe2: pandas.dataFrame\n",
    "    :param special_column_name: str of column you graph against\n",
    "    :type  special_column_name: str\n",
    "    :param other_column_name: string of column you want to graph\n",
    "    :type  other_column_name: str\n",
    "\n",
    "    :returns: no return, makes artifact\n",
    "    :rtype: None.\n",
    "    \"\"\"\n",
    "    shared_columns = (\n",
    "        dataframe1.columns.intersection(dataframe2.columns)).to_list()\n",
    "\n",
    "    dataframe1 = dataframe1[shared_columns]\n",
    "    dataframe2 = dataframe2[shared_columns]\n",
    "    plt.scatter(\n",
    "        dataframe1[special_column_name],\n",
    "        dataframe1[other_column_name],\n",
    "        color=color1,\n",
    "        alpha=0.5,\n",
    "    )\n",
    "    plt.scatter(\n",
    "        dataframe2[special_column_name],\n",
    "        dataframe2[other_column_name],\n",
    "        color=color2,\n",
    "        alpha=0.5,\n",
    "    )\n",
    "    plt.xlabel(special_column_name)\n",
    "    plt.show(block=False)\n",
    "    print('','','','')"
   ]
  },
  {
   "cell_type": "code",
   "execution_count": null,
   "id": "ed05c353-5fef-4b2c-bf93-b31dc1757304",
   "metadata": {
    "tags": []
   },
   "outputs": [],
   "source": [
    "relate_columns_graphs_two_dfs(brain_men, brain_women, 'age', 'gm_vol')"
   ]
  },
  {
   "cell_type": "markdown",
   "id": "bdfa7226-b059-4974-8ec0-340560deb54f",
   "metadata": {},
   "source": [
    "The above happened in real life...watch out for what you can't read by hand"
   ]
  },
  {
   "cell_type": "markdown",
   "id": "5b223fe9-44d8-4be7-bfd0-cb3aca5ddba3",
   "metadata": {},
   "source": [
    "# We can also find outliers programmatically"
   ]
  },
  {
   "cell_type": "code",
   "execution_count": null,
   "id": "bf3dea63-9211-4fc4-a992-b702adc53fbb",
   "metadata": {
    "tags": []
   },
   "outputs": [],
   "source": [
    "\n",
    "def find_outliers_by_list(dataframe, column_list, number_sd):\n",
    "    \"\"\"\n",
    "    This function finds the outliers in terms of anything outside\n",
    "    a given number of\n",
    "    standard deviations (number_sd)\n",
    "    from the mean on a list of specific specific column,\n",
    "    then returns these rows of the dataframe.\n",
    "\n",
    "    :param dataframe: whole dataframe on dataset\n",
    "    :type dataframe: ~pandas.DataFrame\n",
    "    :param column_list: list of relevant columns\n",
    "    :type column_list: list\n",
    "    :param number_sd: number of standard deviations\n",
    "    :type number_sd: float\n",
    "\n",
    "    :returns: dataframe of outliers\n",
    "    :rtype: ~pandas.DataFrame\n",
    "    \"\"\"\n",
    "    outlier_frames = []\n",
    "    for column_n in column_list:\n",
    "        mean = dataframe[column_n].mean()\n",
    "        std = dataframe[column_n].std()\n",
    "        values = dataframe[column_n].abs() - abs(mean + (number_sd * std))\n",
    "        outliers = dataframe[values > 0]\n",
    "        outlier_frames.append(outliers)\n",
    "    outlier_super = pd.concat(outlier_frames)\n",
    "    outlier_super = outlier_super.loc[~outlier_super.duplicated()].copy()\n",
    "    return outlier_super\n"
   ]
  },
  {
   "cell_type": "code",
   "execution_count": null,
   "id": "749814e6-d17b-4289-b358-f2f0783eafd3",
   "metadata": {
    "tags": []
   },
   "outputs": [],
   "source": [
    "brain_data.columns"
   ]
  },
  {
   "cell_type": "code",
   "execution_count": null,
   "id": "a883a065-cf7b-435b-99af-6ba355ea184c",
   "metadata": {
    "tags": []
   },
   "outputs": [],
   "source": [
    "find_outliers_by_list(brain_data,['gm_vol', 'wm_vol', 'csf_vol', 'gm_icv_ratio', 'gmwm_icv_ratio',\n",
    "       'wmh_vol', 'wmh_count', 'cbf_gm_pvc0', 'cbf_gm_pvc2', 'cbf_wm_pvc0',\n",
    "       'cbf_wm_pvc2', 'cbf_aca_pvc0', 'cbf_mca_pvc0', 'cbf_pca_pvc0',\n",
    "       'cbf_aca_pvc2', 'cbf_mca_pvc2', 'cbf_pca_pvc2', 'cov_gm_pvc0',\n",
    "       'cov_gm_pvc2', 'cov_wm_pvc0', 'cov_wm_pvc2', 'cov_aca_pvc0',\n",
    "       'cov_mca_pvc0', 'cov_pca_pvc0', 'cov_aca_pvc2', 'cov_mca_pvc2',\n",
    "       'cov_pca_pvc2'], 1)"
   ]
  },
  {
   "cell_type": "code",
   "execution_count": null,
   "id": "d45d6d66-d59b-4695-95f2-50510a56d5a1",
   "metadata": {},
   "outputs": [],
   "source": []
  }
 ],
 "metadata": {
  "kernelspec": {
   "display_name": "Python 3 (ipykernel)",
   "language": "python",
   "name": "python3"
  },
  "language_info": {
   "codemirror_mode": {
    "name": "ipython",
    "version": 3
   },
   "file_extension": ".py",
   "mimetype": "text/x-python",
   "name": "python",
   "nbconvert_exporter": "python",
   "pygments_lexer": "ipython3",
   "version": "3.9.18"
  }
 },
 "nbformat": 4,
 "nbformat_minor": 5
}
